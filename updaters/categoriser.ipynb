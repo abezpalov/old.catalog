{
 "cells": [
  {
   "cell_type": "markdown",
   "metadata": {},
   "source": [
    "# Распределение товаров по категориям"
   ]
  },
  {
   "cell_type": "markdown",
   "metadata": {},
   "source": [
    "## Инициализация"
   ]
  },
  {
   "cell_type": "code",
   "execution_count": null,
   "metadata": {},
   "outputs": [],
   "source": [
    "import os\n",
    "import sys\n",
    "\n",
    "from django.utils import timezone\n",
    "\n",
    "sys.path.append('/home/ubuntu/anodos.ru/anodos/')\n",
    "os.environ['DJANGO_SETTINGS_MODULE'] = 'anodos.settings'\n",
    "\n",
    "from django.core.wsgi import get_wsgi_application\n",
    "application = get_wsgi_application()"
   ]
  },
  {
   "cell_type": "code",
   "execution_count": null,
   "metadata": {},
   "outputs": [],
   "source": [
    "%matplotlib inline\n",
    "import numpy as np\n",
    "import pandas as pd\n",
    "import seaborn as sns\n",
    "import matplotlib.pyplot as plt\n",
    "\n",
    "import catalog.runner\n",
    "from catalog.models import *"
   ]
  },
  {
   "cell_type": "markdown",
   "metadata": {},
   "source": [
    "## Загружаю данные о продуктах\n",
    "\n",
    "### Описание полей:\n",
    "- **id** - идентификатор в базе;\n",
    "- **vendor** - идентификатор производителя;\n",
    "- **category** - категория продукта (идентификатор);\n",
    "- **unit** - единица измерения;\n",
    "- **double** - если продукт является дублем имеющегося - ссылка на исходный;\n",
    "- **price_type** - тип цены (как правило - розничная);\n",
    "- **currency** - идентификатор валюты цены (на данный момент только рубль);\n",
    "- **name** - имя продукта;\n",
    "- **article** - артикул продукта (уникален для производителя);\n",
    "- **alias** - производитель, артикул и имя продукта, приведённые в вид, оптимизированный для индексации поиска;\n",
    "- **description** - описание продукта (реализация в будущем);\n",
    "- **edited** - редактировался ли продукт вручную;\n",
    "- **tested** - объект проверен вручную, все данные о нём верны;\n",
    "- **for_export** - экспортировать ли информацию во внешние системы, например, в Яндекс.Маркет (реализация в будущем);\n",
    "- **on_stock** - количество, доступное на складах;\n",
    "- **on_transit** - количество, доступное в транзитах;\n",
    "- **on_factory** - количество, доступное на заказ;\n",
    "- **price** - цена;\n",
    "- **fixed** - фиксирована ли цена (True для некоторых программных продуктов или для акционного продукта);\n",
    "- **state** - статус объекта (если False - объект не используется ни в каких обработках);\n",
    "- **created** - дата и время создания объёкта в базе;\n",
    "- **modified** - дата последнего изменения объекта."
   ]
  },
  {
   "cell_type": "code",
   "execution_count": null,
   "metadata": {},
   "outputs": [],
   "source": [
    "# Загружаем продукты одного производителя\n",
    "vendor_alias = 'fujitsu'\n",
    "\n",
    "products = Product.objects.get_df(vendor__alias = vendor_alias, double = None)\n",
    "print(products.info())\n",
    "products.head()"
   ]
  },
  {
   "cell_type": "markdown",
   "metadata": {},
   "source": [
    "## Загружаем все возможные наименования продуктов\n",
    "\n",
    "У разных поставщиков один и тот-же продукт может называться по разному.\n",
    "\n",
    "### Описание полей:\n",
    "- **id** - идентификатор в базе;\n",
    "- **product** - продукт, которому соответствует имя;\n",
    "- **name** - имя;\n",
    "- **state** - статус;\n",
    "- **created** - дата и время создания;\n",
    "- **modified** - дата и время последнего редактирования."
   ]
  },
  {
   "cell_type": "code",
   "execution_count": null,
   "metadata": {},
   "outputs": [],
   "source": [
    "input_names = ProductInputName.objects.get_df(product__vendor__alias = vendor_alias,\n",
    "                                              product__double = None)\n",
    "print(input_names.info())\n",
    "input_names.head()"
   ]
  },
  {
   "cell_type": "markdown",
   "metadata": {},
   "source": [
    "## Загружаем все возможные наименования категорий продуктов\n",
    "\n",
    "Категории у разных поставщиков называются по разному.\n",
    "\n",
    "### Описание полей:\n",
    "- **id** - идентификатор в базе;\n",
    "- **product** - продукт, которому соответствует имя категории;\n",
    "- **category** - имя категори;\n",
    "- **state** - статус;\n",
    "- **created** - дата и время создания;\n",
    "- **modified** - дата и время последнего редактирования."
   ]
  },
  {
   "cell_type": "code",
   "execution_count": null,
   "metadata": {},
   "outputs": [],
   "source": [
    "input_categories = ProductInputCategory.objects.get_df(product__vendor__alias = vendor_alias,\n",
    "                                                       product__double = None)\n",
    "print(input_categories.info())\n",
    "input_categories.head()"
   ]
  },
  {
   "cell_type": "markdown",
   "metadata": {
    "collapsed": true
   },
   "source": [
    "## Переносим имена продуктов и категорий в DF продуктов"
   ]
  },
  {
   "cell_type": "code",
   "execution_count": null,
   "metadata": {},
   "outputs": [],
   "source": [
    "def get_input_names(product):\n",
    "    filtered_names = input_names[input_names['product'] == product]\n",
    "    if len(filtered_names):\n",
    "        names = []\n",
    "        for i, row in filtered_names.iterrows():\n",
    "            names.append(row['name'])\n",
    "        names = ' '.join(names)\n",
    "    else:\n",
    "        names = ''\n",
    "    return names\n",
    "\n",
    "products['input_names'] = products['id'].map(get_input_names)\n",
    "print(products.info())"
   ]
  },
  {
   "cell_type": "code",
   "execution_count": null,
   "metadata": {},
   "outputs": [],
   "source": [
    "def get_input_categories(product):\n",
    "    filtered_categories = input_categories[input_categories['product'] == product]\n",
    "    if len(filtered_categories):\n",
    "        categories = []\n",
    "        for i, row in filtered_categories.iterrows():\n",
    "            if row['category']:\n",
    "                categories.append(row['category'])\n",
    "        categories = ' '.join(categories)\n",
    "    else:\n",
    "        categories = ''\n",
    "    return categories\n",
    "\n",
    "products['input_categories'] = products['id'].map(get_input_categories)\n",
    "print(products.info())"
   ]
  },
  {
   "cell_type": "code",
   "execution_count": null,
   "metadata": {},
   "outputs": [],
   "source": [
    "products.head()"
   ]
  },
  {
   "cell_type": "markdown",
   "metadata": {},
   "source": [
    "## Извлечение признаков"
   ]
  },
  {
   "cell_type": "code",
   "execution_count": null,
   "metadata": {},
   "outputs": [],
   "source": [
    "from sklearn.feature_extraction.text import TfidfVectorizer"
   ]
  },
  {
   "cell_type": "code",
   "execution_count": null,
   "metadata": {},
   "outputs": [],
   "source": [
    "# Вычисляем признаки из текущих имён\n",
    "names_td_idf = TfidfVectorizer()\n",
    "X_names = names_td_idf.fit_transform(products['name'])\n",
    "\n",
    "print('Размер исходной мартицы:', products.shape)\n",
    "print('Размер матрицы признаков:', X_names.shape)"
   ]
  },
  {
   "cell_type": "code",
   "execution_count": null,
   "metadata": {},
   "outputs": [],
   "source": [
    "# Вычисляем признаки из исходных имён\n",
    "input_names_td_idf = TfidfVectorizer()\n",
    "X_input_names = input_names_td_idf.fit_transform(products['input_names'])\n",
    "\n",
    "print('Размер исходной мартицы:', products.shape)\n",
    "print('Размер матрицы признаков:', X_input_names.shape)"
   ]
  },
  {
   "cell_type": "code",
   "execution_count": null,
   "metadata": {},
   "outputs": [],
   "source": [
    "# Вычисляем признаки из исходных категорий\n",
    "input_categories_td_idf = TfidfVectorizer()\n",
    "X_input_categories = input_categories_td_idf.fit_transform(products['input_categories'])\n",
    "\n",
    "print('Размер исходной мартицы:', products.shape)\n",
    "print('Размер матрицы признаков:', X_input_categories.shape)"
   ]
  },
  {
   "cell_type": "code",
   "execution_count": null,
   "metadata": {},
   "outputs": [],
   "source": [
    "from scipy.sparse import coo_matrix, hstack\n",
    "\n",
    "# Объединяем мартицы признаков\n",
    "X = hstack([X_names, X_input_names, X_input_categories]).toarray()\n",
    "print(X.shape)"
   ]
  },
  {
   "cell_type": "markdown",
   "metadata": {},
   "source": [
    "## Кластеризация продуктов\n",
    "\n",
    "Необходимо кластеризовать продукты, чтобы кластеры \"раскидать\" по категориям.\n",
    "\n",
    "Перевести и разобраться в описании методов [sklearn.cluster](http://scikit-learn.org/stable/modules/clustering.html#clustering)"
   ]
  },
  {
   "cell_type": "code",
   "execution_count": null,
   "metadata": {},
   "outputs": [],
   "source": [
    "from sklearn.cluster import DBSCAN\n",
    "from sklearn import metrics\n",
    "\n",
    "# Выбрать оптимальные параметра eps и min_samples\n",
    "epses = [.1, .2, .3, .4, .5, .6, .7, .8, .9]\n",
    "labels = []\n",
    "counts_of_clasters = []\n",
    "counts_of_not_clasters = []\n",
    "\n",
    "for eps in epses:\n",
    "    db = DBSCAN(eps=eps, min_samples=5, metric='cosine')\n",
    "    db.fit(X)\n",
    "    labels.append(db.labels_)\n",
    "    \n",
    "    uniques_labels = set()\n",
    "    count = 0\n",
    "    for label in db.labels_:\n",
    "        uniques_labels.add(label)\n",
    "        if label == -1:\n",
    "            count += 1\n",
    "\n",
    "    counts_of_clasters.append(len(uniques_labels))\n",
    "    counts_of_not_clasters.append(count)"
   ]
  },
  {
   "cell_type": "code",
   "execution_count": null,
   "metadata": {},
   "outputs": [],
   "source": [
    "print(counts_of_clasters)\n",
    "plt.plot(epses, counts_of_clasters)"
   ]
  },
  {
   "cell_type": "code",
   "execution_count": null,
   "metadata": {},
   "outputs": [],
   "source": [
    "print(counts_of_not_clasters)\n",
    "plt.plot(epses, counts_of_not_clasters)"
   ]
  },
  {
   "cell_type": "code",
   "execution_count": null,
   "metadata": {},
   "outputs": [],
   "source": [
    "from sklearn.cluster import DBSCAN\n",
    "from sklearn import metrics\n",
    "\n",
    "db = DBSCAN(eps=0.3, min_samples=5, metric='cosine')\n",
    "db.fit(X)\n",
    "labels.append(db.labels_)\n",
    "    \n",
    "uniques_labels = set()\n",
    "count = 0\n",
    "for label in db.labels_:\n",
    "    uniques_labels.add(label)\n",
    "    if label == -1:\n",
    "        count += 1\n",
    "\n",
    "print('Количество кластеров:', len(uniques_labels))\n",
    "print('Элементов вне кластеров:', count)"
   ]
  },
  {
   "cell_type": "code",
   "execution_count": null,
   "metadata": {
    "scrolled": false
   },
   "outputs": [],
   "source": [
    "products['cluster'] = db.labels_\n",
    "products.head()"
   ]
  },
  {
   "cell_type": "code",
   "execution_count": null,
   "metadata": {},
   "outputs": [],
   "source": [
    "for cluster in uniques_labels:\n",
    "    print(cluster)\n",
    "    for i, row in products[products.cluster == cluster].iterrows():\n",
    "        print(row['name'], row['description'])\n",
    "    print('')"
   ]
  },
  {
   "cell_type": "code",
   "execution_count": null,
   "metadata": {},
   "outputs": [],
   "source": []
  }
 ],
 "metadata": {
  "kernelspec": {
   "display_name": "Python 3",
   "language": "python",
   "name": "python3"
  },
  "language_info": {
   "codemirror_mode": {
    "name": "ipython",
    "version": 3
   },
   "file_extension": ".py",
   "mimetype": "text/x-python",
   "name": "python",
   "nbconvert_exporter": "python",
   "pygments_lexer": "ipython3",
   "version": "3.5.2"
  }
 },
 "nbformat": 4,
 "nbformat_minor": 2
}
