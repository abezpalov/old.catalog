{
 "cells": [
  {
   "cell_type": "markdown",
   "metadata": {},
   "source": [
    "# Europarts"
   ]
  },
  {
   "cell_type": "markdown",
   "metadata": {},
   "source": [
    "## Инициализация"
   ]
  },
  {
   "cell_type": "code",
   "execution_count": null,
   "metadata": {
    "collapsed": true
   },
   "outputs": [],
   "source": [
    "import os\n",
    "import sys\n",
    "\n",
    "from django.utils import timezone\n",
    "\n",
    "sys.path.append('/home/ubuntu/anodos.ru/anodos/')\n",
    "os.environ['DJANGO_SETTINGS_MODULE'] = 'anodos.settings'\n",
    "\n",
    "from django.core.wsgi import get_wsgi_application\n",
    "application = get_wsgi_application()\n",
    "\n",
    "\n",
    "import re\n",
    "import time\n",
    "\n",
    "import catalog.runner\n",
    "from catalog.models import *\n",
    "\n",
    "\n",
    "class Runner(catalog.runner.Runner):\n",
    "\n",
    "    name = 'EuroParts'\n",
    "    alias = 'europarts'\n",
    "    url = {'start' : 'http://euro-parts.ru/catalog/index.aspx',\n",
    "           'base'  : 'http://euro-parts.ru',\n",
    "           'price' : 'http://euro-parts.ru/catalog/index.aspx'}\n",
    "\n",
    "    def __init__(self):\n",
    "\n",
    "        super().__init__()\n",
    "\n",
    "        self.stock = self.take_stock('stock', 'склад', 3, 10)\n",
    "        self.transit = self.take_stock('transit', 'транзит', 10, 60)\n",
    "        \n",
    "    def run(self):\n",
    "\n",
    "        # Заходим на начальную страницу\n",
    "        tree = self.load_html(self.url['price'])\n",
    "\n",
    "        # Проходим по всем категориям\n",
    "        cs = tree.xpath('//div[@id=\"categories\"]//ul[@class=\"list\"]/li/a')\n",
    "        for n, c in enumerate(cs):\n",
    "\n",
    "            # Ждем, чтобы не получить отбой сервера\n",
    "            time.sleep(1)\n",
    "\n",
    "            category = str(c.text)\n",
    "            print(category)\n",
    "\n",
    "            # Загружаем список моделей\n",
    "            c_url = self.xpath_string(c, './@href')\n",
    "            c_url = '{}{}'.format(self.url['base'], c_url)\n",
    "            print(c_url)\n",
    "            tree = self.load_html(c_url)\n",
    "\n",
    "            # Проходим по всем моделям\n",
    "            ms = tree.xpath('//div[@class=\"catalog-list\"]//a/@href')\n",
    "\n",
    "            print('Моделей:', len(ms))\n",
    "\n",
    "            if not len(ms):\n",
    "                self.parse(tree, category)\n",
    "                continue\n",
    "\n",
    "            for m_url in ms:\n",
    "\n",
    "                # Ждем, чтобы не получить отбой сервера\n",
    "                time.sleep(1)\n",
    "\n",
    "                m_url = '{}{}'.format(self.url['base'], m_url)\n",
    "                print(m_url)\n",
    "                tree = self.load_html(m_url)\n",
    "\n",
    "                self.parse(tree, category)\n",
    "\n",
    "        # Чистим устаревшие партии\n",
    "        Party.objects.clear(stock = self.stock, time = self.start_time)\n",
    "\n",
    "        # Пишем результат в лог\n",
    "        self.log()\n",
    "\n",
    "    def parse(self, tree, category):\n",
    "\n",
    "        # Проходим по всем строкам\n",
    "        rows = tree.xpath('.//div[@class=\"rows\"]/ul[@class=\"row\"]')\n",
    "        \n",
    "        print('Продуктов:', len(rows))"
   ]
  },
  {
   "cell_type": "code",
   "execution_count": null,
   "metadata": {},
   "outputs": [],
   "source": [
    "s = Runner()\n",
    "s.run()"
   ]
  },
  {
   "cell_type": "code",
   "execution_count": null,
   "metadata": {
    "collapsed": true
   },
   "outputs": [],
   "source": []
  },
  {
   "cell_type": "code",
   "execution_count": null,
   "metadata": {
    "collapsed": true
   },
   "outputs": [],
   "source": []
  }
 ],
 "metadata": {
  "kernelspec": {
   "display_name": "Python 3",
   "language": "python",
   "name": "python3"
  },
  "language_info": {
   "codemirror_mode": {
    "name": "ipython",
    "version": 3
   },
   "file_extension": ".py",
   "mimetype": "text/x-python",
   "name": "python",
   "nbconvert_exporter": "python",
   "pygments_lexer": "ipython3",
   "version": "3.5.2"
  }
 },
 "nbformat": 4,
 "nbformat_minor": 2
}
