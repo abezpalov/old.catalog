{
 "cells": [
  {
   "cell_type": "markdown",
   "metadata": {},
   "source": [
    "# Auvix"
   ]
  },
  {
   "cell_type": "markdown",
   "metadata": {},
   "source": [
    "## Инициализация"
   ]
  },
  {
   "cell_type": "code",
   "execution_count": null,
   "metadata": {
    "collapsed": true
   },
   "outputs": [],
   "source": [
    "import os\n",
    "import sys\n",
    "\n",
    "from django.utils import timezone\n",
    "\n",
    "sys.path.append('/home/ubuntu/anodos.ru/anodos/')\n",
    "os.environ['DJANGO_SETTINGS_MODULE'] = 'anodos.settings'\n",
    "\n",
    "from django.core.wsgi import get_wsgi_application\n",
    "application = get_wsgi_application()\n",
    "\n",
    "\n",
    "import re\n",
    "import catalog.runner\n",
    "from catalog.models import *\n",
    "\n",
    "\n",
    "class Runner(catalog.runner.Runner):\n",
    "\n",
    "    name  = 'Auvix'\n",
    "    alias = 'auvix'\n",
    "    url = {\n",
    "        'start'  : 'https://b2b.auvix.ru/',\n",
    "        'login'  : 'https://b2b.auvix.ru/?login=yes',\n",
    "        'price'  : 'https://b2b.auvix.ru/prices/Price_AUVIX_dealer_xml.zip'}\n",
    "\n",
    "    def __init__(self):\n",
    "\n",
    "        super().__init__()\n",
    "\n",
    "        self.stock   = self.take_stock('stock',   'склад', 3, 10)\n",
    "        self.factory = self.take_stock('factory', 'на заказ', 20, 80)\n",
    "\n",
    "        self.count = {'product': 0, 'party': 0}\n",
    "\n",
    "    def run(self):\n",
    "\n",
    "        payload = {\n",
    "            'AUTH_FORM'     : 'Y',\n",
    "            'TYPE'          : 'AUTH',\n",
    "            'backurl'       : '/',\n",
    "            'USER_LOGIN'    : self.updater.login,\n",
    "            'USER_PASSWORD' : self.updater.password,\n",
    "            'Login'         : '%C2%A0',\n",
    "            'USER_REMEMBER' : 'Y'}\n",
    "        if self.login(payload):\n",
    "            print('Авторизован.')\n",
    "        else:\n",
    "            print('Не удалось авторизоваться')\n",
    "            return False\n",
    "\n",
    "        # Загружаем данные\n",
    "        self.data = self.load_data(self.url['price'])\n",
    "        self.data = self.unpack_xml(self.data)\n",
    "        if self.data is not None:\n",
    "            print('Данные загружены.')\n",
    "        else:\n",
    "            print('Ошибка загрузки данных!')\n",
    "            return None\n",
    "\n",
    "s = Runner()"
   ]
  },
  {
   "cell_type": "code",
   "execution_count": null,
   "metadata": {
    "collapsed": true
   },
   "outputs": [],
   "source": [
    "def get_string(element, query):\n",
    "\n",
    "    try:\n",
    "        result = element.xpath(query)[0].text.strip()\n",
    "    except Exception:\n",
    "        result = ''\n",
    "\n",
    "    return result\n",
    "\n",
    "s.get_string = get_string"
   ]
  },
  {
   "cell_type": "markdown",
   "metadata": {},
   "source": [
    "## Загрузка данных"
   ]
  },
  {
   "cell_type": "code",
   "execution_count": null,
   "metadata": {},
   "outputs": [],
   "source": [
    "s.run()"
   ]
  },
  {
   "cell_type": "markdown",
   "metadata": {},
   "source": [
    "## Готовим данные"
   ]
  },
  {
   "cell_type": "code",
   "execution_count": null,
   "metadata": {},
   "outputs": [],
   "source": [
    "print(s.data)"
   ]
  },
  {
   "cell_type": "code",
   "execution_count": null,
   "metadata": {
    "collapsed": true
   },
   "outputs": [],
   "source": [
    "currency = {\n",
    "    'USD'   : s.usd,\n",
    "    'Евро'  : s.eur,\n",
    "    'Рубль' : s.rub}"
   ]
  },
  {
   "cell_type": "code",
   "execution_count": null,
   "metadata": {
    "collapsed": true
   },
   "outputs": [],
   "source": [
    "# Перенос данных\n",
    "tree = s.data"
   ]
  },
  {
   "cell_type": "markdown",
   "metadata": {},
   "source": [
    "## Парсим данные"
   ]
  },
  {
   "cell_type": "code",
   "execution_count": null,
   "metadata": {},
   "outputs": [],
   "source": [
    "s.reg = re.compile('\\[(?P<article>[0-9A-Za-z\\.\\-\\_ ]+)\\]')\n",
    "\n",
    "products = []\n",
    "categories = []\n",
    "\n",
    "for group in tree.xpath('.//Группа'):\n",
    "\n",
    "    category = s.get_string(group, './Наименование')\n",
    "\n",
    "    for element in group.xpath('./Товары/Товар'):\n",
    "\n",
    "        product = {}\n",
    "        party = {}\n",
    "\n",
    "        # Производитель\n",
    "        product['vendor'] = Vendor.objects.get_by_key(s.updater, s.get_string(element, './Производитель'))\n",
    "\n",
    "        # Продукт\n",
    "        product['name'] = s.fix_name(s.get_string(element, './Наименование'))\n",
    "\n",
    "        product['article'] = s.get_string(element, './Модель')\n",
    "        product['article_alt'] = re.search(s.reg, s.get_string(element, './Наименование'))\n",
    "        if product['article_alt']:\n",
    "            product['article'] = product['article_alt'].group('article')\n",
    "        product['article'] = s.fix_article(product['article'])\n",
    "\n",
    "        product = Product.objects.take(article  = product['article'],\n",
    "                                       vendor   = product['vendor'],\n",
    "                                       name     = product['name'],\n",
    "                                       unit     = s.default_unit,\n",
    "                                       category = category)\n",
    "\n",
    "        if product:\n",
    "            s.count['product'] += 1\n",
    "        else:\n",
    "            continue\n",
    "\n",
    "        # Партии\n",
    "        party['article'] = s.fix_article(s.get_string(element, './Артикул'))\n",
    "\n",
    "        party['quantity'] = s.fix_quantity(s.get_string(element, './Количество'))\n",
    "\n",
    "        party['currency'] = s.get_string(element, './Валюта')\n",
    "        if party['currency']:\n",
    "            party['currency'] = currency[party['currency']]\n",
    "        else:\n",
    "            party['currency'] = None\n",
    "\n",
    "        party['price_in'] = s.fix_price(s.get_string(element, './Цена_3'))\n",
    "        party['price_out'] = s.fix_price(s.get_string(element, './Цена_1'))\n",
    "\n",
    "        if party['quantity'] != 0:\n",
    "            party = Party.objects.make(product    = product,\n",
    "                                       stock      = s.stock,\n",
    "                                       price      = party['price_in'],\n",
    "                                       price_type = s.dp,\n",
    "                                       currency   = party['currency'],\n",
    "                                       quantity   = party['quantity'],\n",
    "                                       unit       = s.default_unit,\n",
    "                                       time       = s.start_time)\n",
    "            s.count['party'] += 1\n",
    "\n",
    "        else:\n",
    "            party = Party.objects.make(product    = product,\n",
    "                                       stock      = s.factory,\n",
    "                                       price      = party['price_in'],\n",
    "                                       price_type = s.dp,\n",
    "                                       currency   = party['currency'],\n",
    "                                       quantity   = None,\n",
    "                                       unit       = s.default_unit,\n",
    "                                       time       = s.start_time)\n",
    "            s.count['party'] += 1\n",
    "\n",
    "        products.append(product)\n",
    "        categories.append(category)"
   ]
  },
  {
   "cell_type": "code",
   "execution_count": null,
   "metadata": {},
   "outputs": [],
   "source": [
    "print('Количество продуктов:', len(products))"
   ]
  },
  {
   "cell_type": "code",
   "execution_count": null,
   "metadata": {},
   "outputs": [],
   "source": [
    "print('Количество категорий:', len(categories))"
   ]
  },
  {
   "cell_type": "code",
   "execution_count": null,
   "metadata": {},
   "outputs": [],
   "source": [
    "for n, product in enumerate(products):\n",
    "    print('{} {}'.format(n, product, categories[n]))"
   ]
  },
  {
   "cell_type": "code",
   "execution_count": null,
   "metadata": {
    "collapsed": true
   },
   "outputs": [],
   "source": []
  }
 ],
 "metadata": {
  "kernelspec": {
   "display_name": "Python 3",
   "language": "python",
   "name": "python3"
  },
  "language_info": {
   "codemirror_mode": {
    "name": "ipython",
    "version": 3
   },
   "file_extension": ".py",
   "mimetype": "text/x-python",
   "name": "python",
   "nbconvert_exporter": "python",
   "pygments_lexer": "ipython3",
   "version": "3.5.2"
  }
 },
 "nbformat": 4,
 "nbformat_minor": 2
}
