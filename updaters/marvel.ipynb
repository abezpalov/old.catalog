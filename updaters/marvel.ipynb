{
 "cells": [
  {
   "cell_type": "markdown",
   "metadata": {},
   "source": [
    "# Marvel"
   ]
  },
  {
   "cell_type": "code",
   "execution_count": 1,
   "metadata": {
    "collapsed": true
   },
   "outputs": [],
   "source": [
    "import os\n",
    "import sys\n",
    "\n",
    "from django.utils import timezone\n",
    "\n",
    "sys.path.append('/home/ubuntu/anodos.ru/anodos/')\n",
    "os.environ['DJANGO_SETTINGS_MODULE'] = 'anodos.settings'\n",
    "\n",
    "from django.core.wsgi import get_wsgi_application\n",
    "application = get_wsgi_application()"
   ]
  },
  {
   "cell_type": "code",
   "execution_count": 13,
   "metadata": {
    "collapsed": true
   },
   "outputs": [],
   "source": [
    "\"\"\" Updater.Marvel\n",
    "    API поставщика имеет странные ограничения на время между запросами.\n",
    "\"\"\"\n",
    "\n",
    "import time\n",
    "\n",
    "import catalog.runner\n",
    "from catalog.models import *\n",
    "from anodos.models import Log\n",
    "\n",
    "\n",
    "class Runner(catalog.runner.Runner):\n",
    "\n",
    "    name  = 'Marvel'\n",
    "    alias = 'marvel'\n",
    "\n",
    "    url = 'https://b2b.marvel.ru/Api/'\n",
    "\n",
    "\n",
    "    def __init__(self):\n",
    "\n",
    "        super().__init__()\n",
    "\n",
    "        self.stock_msk = self.take_stock('stock-msk', 'склад в Москве', 3, 10)\n",
    "        self.stock_spb = self.take_stock('stock-spb', 'склад в Санкт-Петербурге', 3, 10)\n",
    "\n",
    "        # Дополнительные переменные\n",
    "        # TODO ??\n",
    "        self.key = ''\n",
    "        self.task = {'categories': 'GetCatalogCategories',\n",
    "                     'catalog': 'GetFullStock',\n",
    "                     'parameters': 'GetItems',\n",
    "                     'photos': 'GetItemPhotos'}\n",
    "        self.request_format = {'xml': '0', 'json': '1'}\n",
    "        self.cookies = None\n",
    "        self.categories = {}\n",
    "        self.currencies = {'RUB': self.rub,\n",
    "                           'RUR': self.rub,\n",
    "                           'USD': self.usd,\n",
    "                           'EUR': self.eur,\n",
    "                           '': None}\n",
    "        self.stocks = {'msk' : self.stock_msk, 'spb' : self.stock_spb}\n",
    "\n",
    "    def run(self):\n",
    "\n",
    "        # Проверяем наличие параметров авторизации\n",
    "        if not self.updater.login or not self.updater.password:\n",
    "            print('Ошибка: Проверьте параметры авторизации. Кажется их нет.')\n",
    "            return False\n",
    "\n",
    "        # Загружаем и парсим категирии\n",
    "        data = self.get_data('categories', 'json')\n",
    "        self.parse_categories(data)\n",
    "\n",
    "        # Загружаем и парсим каталог\n",
    "        data = self.get_data('catalog', 'json')\n",
    "        self.parse_catalog(data)\n",
    "\n",
    "    def run_categories(self):\n",
    "\n",
    "        # Проверяем наличие параметров авторизации\n",
    "        if not self.updater.login or not self.updater.password:\n",
    "            print('Ошибка: Проверьте параметры авторизации. Кажется их нет.')\n",
    "            return False\n",
    "\n",
    "        data = self.get_data('categories', 'json')\n",
    "        return data\n",
    "        \n",
    "    def run_catalog(self):\n",
    "\n",
    "        # Проверяем наличие параметров авторизации\n",
    "        if not self.updater.login or not self.updater.password:\n",
    "            print('Ошибка: Проверьте параметры авторизации. Кажется их нет.')\n",
    "            return False\n",
    "\n",
    "        data = self.get_data('categories', 'json')\n",
    "        return data\n",
    "\n",
    "    def get_data(self, task, request_format, pack_status = None, articles = None):\n",
    "\n",
    "        import requests\n",
    "\n",
    "        # Создаем сессию\n",
    "        s = requests.Session()\n",
    "\n",
    "        # Собираем URL\n",
    "        if not pack_status is None:\n",
    "            url = '{url}{task}?user={login}&password={password}&secretKey={key}&packStatus={pack_status}&responseFormat={request_format}'.format(\n",
    "                url            = self.url,\n",
    "                task           = self.task[task],\n",
    "                login          = self.updater.login,\n",
    "                password       = self.updater.password,\n",
    "                key            = None,\n",
    "                pack_status    = pack_status,\n",
    "                request_format = self.request_format[request_format])\n",
    "        else:\n",
    "            url = '{url}{task}?user={login}&password={password}&secretKey={key}&responseFormat={request_format}'.format(\n",
    "                url            = self.url,\n",
    "                task           = self.task[task],\n",
    "                login          = self.updater.login,\n",
    "                password       = self.updater.password,\n",
    "                key            = None,\n",
    "                request_format = self.request_format[request_format])\n",
    "\n",
    "        if articles:\n",
    "\n",
    "            # Готовим начало\n",
    "            url = '{url}{mid}'.format(\n",
    "                url = url,\n",
    "                mid = '&getExtendedItemInfo=1&items={\"WareItem\": [')\n",
    "\n",
    "            # Добавляем артикулы\n",
    "            for article in articles:\n",
    "                url = '{url}{mid}{article}{end}'.format(\n",
    "                    url     = url,\n",
    "                    mid     = '{\"ItemId\": \"',\n",
    "                    article = article,\n",
    "                    end     = '\"},')\n",
    "\n",
    "            # Удаляем лишнюю запятую\n",
    "            url = url[0 : len(url) - 1]\n",
    "\n",
    "            # Добавляем конец\n",
    "            url = '{url}{end}'.format(\n",
    "                url = url,\n",
    "                end = ']}')\n",
    "\n",
    "        # Выполняем запрос\n",
    "        try:\n",
    "            r = s.post(url, cookies = self.cookies, verify = False, timeout = 300)\n",
    "        except Exception:\n",
    "            print('Нет соединения')\n",
    "            return False\n",
    "        else:\n",
    "\n",
    "            # Обрабатываем ответ\n",
    "            if 'json' == request_format:\n",
    "\n",
    "                import json\n",
    "\n",
    "                try:\n",
    "                    data = json.loads(r.text)\n",
    "                except Exception:\n",
    "                    return False\n",
    "\n",
    "                if data['Header']['Key']: self.key = data['Header']['Key']\n",
    "                if data['Header']['Code'] != 0:\n",
    "\n",
    "                    print(data['Header']['Message'])\n",
    "\n",
    "                    if data['Header']['Message']:\n",
    "                        Log.objects.add(\n",
    "                        subject     = \"catalog.updater.{}\".format(self.updater.alias),\n",
    "                        channel     = \"error\",\n",
    "                        title       = \"?\",\n",
    "                        description = data['Header']['Message'])\n",
    "                    else:\n",
    "                        Log.objects.add(\n",
    "                        subject     = \"catalog.updater.{}\".format(self.updater.alias),\n",
    "                        channel     = \"error\",\n",
    "                        title       = \"?\",\n",
    "                        description = \"Невнятный ответ сервера\")\n",
    "                    return False\n",
    "                else:\n",
    "                    return data['Body']\n",
    "            else:\n",
    "                print('Ошибка: используется неподдерживаемый формат.')\n",
    "                return False"
   ]
  },
  {
   "cell_type": "code",
   "execution_count": 16,
   "metadata": {},
   "outputs": [
    {
     "name": "stderr",
     "output_type": "stream",
     "text": [
      "/usr/local/lib/python3.5/dist-packages/urllib3/connectionpool.py:852: InsecureRequestWarning: Unverified HTTPS request is being made. Adding certificate verification is strongly advised. See: https://urllib3.readthedocs.io/en/latest/advanced-usage.html#ssl-warnings\n",
      "  InsecureRequestWarning)\n"
     ]
    },
    {
     "name": "stdout",
     "output_type": "stream",
     "text": [
      "Вы сможете сгрузить запрошенные данные через 3,12769484 мин.\n"
     ]
    },
    {
     "data": {
      "text/plain": [
       "False"
      ]
     },
     "execution_count": 16,
     "metadata": {},
     "output_type": "execute_result"
    }
   ],
   "source": [
    "s = Runner()\n",
    "data_categories = s.run_categories()\n",
    "data_categories"
   ]
  },
  {
   "cell_type": "code",
   "execution_count": 15,
   "metadata": {},
   "outputs": [
    {
     "name": "stderr",
     "output_type": "stream",
     "text": [
      "/usr/local/lib/python3.5/dist-packages/urllib3/connectionpool.py:852: InsecureRequestWarning: Unverified HTTPS request is being made. Adding certificate verification is strongly advised. See: https://urllib3.readthedocs.io/en/latest/advanced-usage.html#ssl-warnings\n",
      "  InsecureRequestWarning)\n"
     ]
    },
    {
     "name": "stdout",
     "output_type": "stream",
     "text": [
      "Вы сможете сгрузить запрошенные данные через 6,97856160333333 мин.\n"
     ]
    },
    {
     "data": {
      "text/plain": [
       "False"
      ]
     },
     "execution_count": 15,
     "metadata": {},
     "output_type": "execute_result"
    }
   ],
   "source": [
    "s = Runner()\n",
    "data_catalog = s.run_catalog()\n",
    "data_catalog"
   ]
  },
  {
   "cell_type": "code",
   "execution_count": null,
   "metadata": {
    "collapsed": true
   },
   "outputs": [],
   "source": []
  }
 ],
 "metadata": {
  "kernelspec": {
   "display_name": "Python 3",
   "language": "python",
   "name": "python3"
  },
  "language_info": {
   "codemirror_mode": {
    "name": "ipython",
    "version": 3
   },
   "file_extension": ".py",
   "mimetype": "text/x-python",
   "name": "python",
   "nbconvert_exporter": "python",
   "pygments_lexer": "ipython3",
   "version": "3.5.2"
  }
 },
 "nbformat": 4,
 "nbformat_minor": 2
}
